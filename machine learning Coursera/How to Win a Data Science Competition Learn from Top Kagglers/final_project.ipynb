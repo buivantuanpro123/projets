{
 "cells": [
  {
   "cell_type": "markdown",
   "metadata": {},
   "source": [
    "# Final Project\n",
    "# EDA"
   ]
  },
  {
   "cell_type": "code",
   "execution_count": 45,
   "metadata": {},
   "outputs": [
    {
     "name": "stdout",
     "output_type": "stream",
     "text": [
      "numpy 1.15.4\n",
      "pandas 0.20.3\n",
      "sklearn 0.19.0\n",
      "scipy 0.19.1\n",
      "lightgbm 2.3.1\n"
     ]
    }
   ],
   "source": [
    "import os, gc, math, time, datetime\n",
    "import numpy as np\n",
    "import seaborn\n",
    "from itertools import product\n",
    "\n",
    "import matplotlib.pyplot as plt\n",
    "%matplotlib inline\n",
    "\n",
    "import pandas as pd \n",
    "import sklearn\n",
    "import lightgbm as lgb\n",
    "import scipy.sparse \n",
    "\n",
    "for p in [np, pd, sklearn, scipy, lgb]:\n",
    "    print (p.__name__, p.__version__)"
   ]
  },
  {
   "cell_type": "code",
   "execution_count": 40,
   "metadata": {},
   "outputs": [],
   "source": [
    "def downcast_dtypes(df):\n",
    "    '''\n",
    "        Changes column types in the dataframe: \n",
    "                \n",
    "                `float64` type to `float32`\n",
    "                `int64`   type to `int32`\n",
    "    '''\n",
    "    \n",
    "    # Select columns to downcast\n",
    "    float_cols = [c for c in df if df[c].dtype == \"float64\"]\n",
    "    int_cols =   [c for c in df if df[c].dtype == \"int64\"]\n",
    "    \n",
    "    # Downcast\n",
    "    df[float_cols] = df[float_cols].astype(np.float32)\n",
    "    df[int_cols]   = df[int_cols].astype(np.int32)\n",
    "    \n",
    "    return df\n",
    "\n",
    "def remove_from_list(A, B):\n",
    "    for b in B:\n",
    "        A.remove(b)\n",
    "    return A"
   ]
  },
  {
   "cell_type": "code",
   "execution_count": 3,
   "metadata": {},
   "outputs": [],
   "source": [
    "# Load data\n",
    "DATA_FOLDER = '../readonly/final_project_data/'\n",
    "\n",
    "sales           = pd.read_csv(os.path.join(DATA_FOLDER, 'sales_train.csv.gz'))\n",
    "items           = pd.read_csv(os.path.join(DATA_FOLDER, 'items.csv'))\n",
    "item_categories = pd.read_csv(os.path.join(DATA_FOLDER, 'item_categories.csv'))\n",
    "shops           = pd.read_csv(os.path.join(DATA_FOLDER, 'shops.csv'))"
   ]
  },
  {
   "cell_type": "code",
   "execution_count": 4,
   "metadata": {},
   "outputs": [
    {
     "name": "stdout",
     "output_type": "stream",
     "text": [
      "(2935849, 6)\n",
      "(22170, 3)\n",
      "(84, 2)\n",
      "(60, 2)\n"
     ]
    }
   ],
   "source": [
    "# Print the shape of the loaded dataframes\n",
    "print(sales.shape)\n",
    "print(items.shape)\n",
    "print(item_categories.shape)\n",
    "print(shops.shape)"
   ]
  },
  {
   "cell_type": "markdown",
   "metadata": {},
   "source": [
    "## Print first rows"
   ]
  },
  {
   "cell_type": "code",
   "execution_count": 5,
   "metadata": {},
   "outputs": [
    {
     "data": {
      "text/html": [
       "<div>\n",
       "<style>\n",
       "    .dataframe thead tr:only-child th {\n",
       "        text-align: right;\n",
       "    }\n",
       "\n",
       "    .dataframe thead th {\n",
       "        text-align: left;\n",
       "    }\n",
       "\n",
       "    .dataframe tbody tr th {\n",
       "        vertical-align: top;\n",
       "    }\n",
       "</style>\n",
       "<table border=\"1\" class=\"dataframe\">\n",
       "  <thead>\n",
       "    <tr style=\"text-align: right;\">\n",
       "      <th></th>\n",
       "      <th>date</th>\n",
       "      <th>date_block_num</th>\n",
       "      <th>shop_id</th>\n",
       "      <th>item_id</th>\n",
       "      <th>item_price</th>\n",
       "      <th>item_cnt_day</th>\n",
       "    </tr>\n",
       "  </thead>\n",
       "  <tbody>\n",
       "    <tr>\n",
       "      <th>0</th>\n",
       "      <td>02.01.2013</td>\n",
       "      <td>0</td>\n",
       "      <td>59</td>\n",
       "      <td>22154</td>\n",
       "      <td>999.00</td>\n",
       "      <td>1.0</td>\n",
       "    </tr>\n",
       "    <tr>\n",
       "      <th>1</th>\n",
       "      <td>03.01.2013</td>\n",
       "      <td>0</td>\n",
       "      <td>25</td>\n",
       "      <td>2552</td>\n",
       "      <td>899.00</td>\n",
       "      <td>1.0</td>\n",
       "    </tr>\n",
       "    <tr>\n",
       "      <th>2</th>\n",
       "      <td>05.01.2013</td>\n",
       "      <td>0</td>\n",
       "      <td>25</td>\n",
       "      <td>2552</td>\n",
       "      <td>899.00</td>\n",
       "      <td>-1.0</td>\n",
       "    </tr>\n",
       "    <tr>\n",
       "      <th>3</th>\n",
       "      <td>06.01.2013</td>\n",
       "      <td>0</td>\n",
       "      <td>25</td>\n",
       "      <td>2554</td>\n",
       "      <td>1709.05</td>\n",
       "      <td>1.0</td>\n",
       "    </tr>\n",
       "    <tr>\n",
       "      <th>4</th>\n",
       "      <td>15.01.2013</td>\n",
       "      <td>0</td>\n",
       "      <td>25</td>\n",
       "      <td>2555</td>\n",
       "      <td>1099.00</td>\n",
       "      <td>1.0</td>\n",
       "    </tr>\n",
       "  </tbody>\n",
       "</table>\n",
       "</div>"
      ],
      "text/plain": [
       "         date  date_block_num  shop_id  item_id  item_price  item_cnt_day\n",
       "0  02.01.2013               0       59    22154      999.00           1.0\n",
       "1  03.01.2013               0       25     2552      899.00           1.0\n",
       "2  05.01.2013               0       25     2552      899.00          -1.0\n",
       "3  06.01.2013               0       25     2554     1709.05           1.0\n",
       "4  15.01.2013               0       25     2555     1099.00           1.0"
      ]
     },
     "execution_count": 5,
     "metadata": {},
     "output_type": "execute_result"
    }
   ],
   "source": [
    "sales.head()"
   ]
  },
  {
   "cell_type": "code",
   "execution_count": 6,
   "metadata": {},
   "outputs": [
    {
     "data": {
      "text/html": [
       "<div>\n",
       "<style>\n",
       "    .dataframe thead tr:only-child th {\n",
       "        text-align: right;\n",
       "    }\n",
       "\n",
       "    .dataframe thead th {\n",
       "        text-align: left;\n",
       "    }\n",
       "\n",
       "    .dataframe tbody tr th {\n",
       "        vertical-align: top;\n",
       "    }\n",
       "</style>\n",
       "<table border=\"1\" class=\"dataframe\">\n",
       "  <thead>\n",
       "    <tr style=\"text-align: right;\">\n",
       "      <th></th>\n",
       "      <th>item_name</th>\n",
       "      <th>item_id</th>\n",
       "      <th>item_category_id</th>\n",
       "    </tr>\n",
       "  </thead>\n",
       "  <tbody>\n",
       "    <tr>\n",
       "      <th>0</th>\n",
       "      <td>! ВО ВЛАСТИ НАВАЖДЕНИЯ (ПЛАСТ.)         D</td>\n",
       "      <td>0</td>\n",
       "      <td>40</td>\n",
       "    </tr>\n",
       "    <tr>\n",
       "      <th>1</th>\n",
       "      <td>!ABBYY FineReader 12 Professional Edition Full...</td>\n",
       "      <td>1</td>\n",
       "      <td>76</td>\n",
       "    </tr>\n",
       "    <tr>\n",
       "      <th>2</th>\n",
       "      <td>***В ЛУЧАХ СЛАВЫ   (UNV)                    D</td>\n",
       "      <td>2</td>\n",
       "      <td>40</td>\n",
       "    </tr>\n",
       "    <tr>\n",
       "      <th>3</th>\n",
       "      <td>***ГОЛУБАЯ ВОЛНА  (Univ)                      D</td>\n",
       "      <td>3</td>\n",
       "      <td>40</td>\n",
       "    </tr>\n",
       "    <tr>\n",
       "      <th>4</th>\n",
       "      <td>***КОРОБКА (СТЕКЛО)                       D</td>\n",
       "      <td>4</td>\n",
       "      <td>40</td>\n",
       "    </tr>\n",
       "  </tbody>\n",
       "</table>\n",
       "</div>"
      ],
      "text/plain": [
       "                                           item_name  item_id  \\\n",
       "0          ! ВО ВЛАСТИ НАВАЖДЕНИЯ (ПЛАСТ.)         D        0   \n",
       "1  !ABBYY FineReader 12 Professional Edition Full...        1   \n",
       "2      ***В ЛУЧАХ СЛАВЫ   (UNV)                    D        2   \n",
       "3    ***ГОЛУБАЯ ВОЛНА  (Univ)                      D        3   \n",
       "4        ***КОРОБКА (СТЕКЛО)                       D        4   \n",
       "\n",
       "   item_category_id  \n",
       "0                40  \n",
       "1                76  \n",
       "2                40  \n",
       "3                40  \n",
       "4                40  "
      ]
     },
     "execution_count": 6,
     "metadata": {},
     "output_type": "execute_result"
    }
   ],
   "source": [
    "items.head()"
   ]
  },
  {
   "cell_type": "code",
   "execution_count": 7,
   "metadata": {},
   "outputs": [
    {
     "data": {
      "text/html": [
       "<div>\n",
       "<style>\n",
       "    .dataframe thead tr:only-child th {\n",
       "        text-align: right;\n",
       "    }\n",
       "\n",
       "    .dataframe thead th {\n",
       "        text-align: left;\n",
       "    }\n",
       "\n",
       "    .dataframe tbody tr th {\n",
       "        vertical-align: top;\n",
       "    }\n",
       "</style>\n",
       "<table border=\"1\" class=\"dataframe\">\n",
       "  <thead>\n",
       "    <tr style=\"text-align: right;\">\n",
       "      <th></th>\n",
       "      <th>item_category_name</th>\n",
       "      <th>item_category_id</th>\n",
       "    </tr>\n",
       "  </thead>\n",
       "  <tbody>\n",
       "    <tr>\n",
       "      <th>0</th>\n",
       "      <td>PC - Гарнитуры/Наушники</td>\n",
       "      <td>0</td>\n",
       "    </tr>\n",
       "    <tr>\n",
       "      <th>1</th>\n",
       "      <td>Аксессуары - PS2</td>\n",
       "      <td>1</td>\n",
       "    </tr>\n",
       "    <tr>\n",
       "      <th>2</th>\n",
       "      <td>Аксессуары - PS3</td>\n",
       "      <td>2</td>\n",
       "    </tr>\n",
       "    <tr>\n",
       "      <th>3</th>\n",
       "      <td>Аксессуары - PS4</td>\n",
       "      <td>3</td>\n",
       "    </tr>\n",
       "    <tr>\n",
       "      <th>4</th>\n",
       "      <td>Аксессуары - PSP</td>\n",
       "      <td>4</td>\n",
       "    </tr>\n",
       "  </tbody>\n",
       "</table>\n",
       "</div>"
      ],
      "text/plain": [
       "        item_category_name  item_category_id\n",
       "0  PC - Гарнитуры/Наушники                 0\n",
       "1         Аксессуары - PS2                 1\n",
       "2         Аксессуары - PS3                 2\n",
       "3         Аксессуары - PS4                 3\n",
       "4         Аксессуары - PSP                 4"
      ]
     },
     "execution_count": 7,
     "metadata": {},
     "output_type": "execute_result"
    }
   ],
   "source": [
    "item_categories.head()"
   ]
  },
  {
   "cell_type": "code",
   "execution_count": 8,
   "metadata": {
    "scrolled": true
   },
   "outputs": [
    {
     "data": {
      "text/html": [
       "<div>\n",
       "<style>\n",
       "    .dataframe thead tr:only-child th {\n",
       "        text-align: right;\n",
       "    }\n",
       "\n",
       "    .dataframe thead th {\n",
       "        text-align: left;\n",
       "    }\n",
       "\n",
       "    .dataframe tbody tr th {\n",
       "        vertical-align: top;\n",
       "    }\n",
       "</style>\n",
       "<table border=\"1\" class=\"dataframe\">\n",
       "  <thead>\n",
       "    <tr style=\"text-align: right;\">\n",
       "      <th></th>\n",
       "      <th>shop_name</th>\n",
       "      <th>shop_id</th>\n",
       "    </tr>\n",
       "  </thead>\n",
       "  <tbody>\n",
       "    <tr>\n",
       "      <th>0</th>\n",
       "      <td>!Якутск Орджоникидзе, 56 фран</td>\n",
       "      <td>0</td>\n",
       "    </tr>\n",
       "    <tr>\n",
       "      <th>1</th>\n",
       "      <td>!Якутск ТЦ \"Центральный\" фран</td>\n",
       "      <td>1</td>\n",
       "    </tr>\n",
       "    <tr>\n",
       "      <th>2</th>\n",
       "      <td>Адыгея ТЦ \"Мега\"</td>\n",
       "      <td>2</td>\n",
       "    </tr>\n",
       "    <tr>\n",
       "      <th>3</th>\n",
       "      <td>Балашиха ТРК \"Октябрь-Киномир\"</td>\n",
       "      <td>3</td>\n",
       "    </tr>\n",
       "    <tr>\n",
       "      <th>4</th>\n",
       "      <td>Волжский ТЦ \"Волга Молл\"</td>\n",
       "      <td>4</td>\n",
       "    </tr>\n",
       "  </tbody>\n",
       "</table>\n",
       "</div>"
      ],
      "text/plain": [
       "                        shop_name  shop_id\n",
       "0   !Якутск Орджоникидзе, 56 фран        0\n",
       "1   !Якутск ТЦ \"Центральный\" фран        1\n",
       "2                Адыгея ТЦ \"Мега\"        2\n",
       "3  Балашиха ТРК \"Октябрь-Киномир\"        3\n",
       "4        Волжский ТЦ \"Волга Молл\"        4"
      ]
     },
     "execution_count": 8,
     "metadata": {},
     "output_type": "execute_result"
    }
   ],
   "source": [
    "shops.head()"
   ]
  },
  {
   "cell_type": "code",
   "execution_count": 9,
   "metadata": {
    "scrolled": true
   },
   "outputs": [
    {
     "name": "stdout",
     "output_type": "stream",
     "text": [
      "(214200, 3)\n"
     ]
    },
    {
     "data": {
      "text/html": [
       "<div>\n",
       "<style>\n",
       "    .dataframe thead tr:only-child th {\n",
       "        text-align: right;\n",
       "    }\n",
       "\n",
       "    .dataframe thead th {\n",
       "        text-align: left;\n",
       "    }\n",
       "\n",
       "    .dataframe tbody tr th {\n",
       "        vertical-align: top;\n",
       "    }\n",
       "</style>\n",
       "<table border=\"1\" class=\"dataframe\">\n",
       "  <thead>\n",
       "    <tr style=\"text-align: right;\">\n",
       "      <th></th>\n",
       "      <th>ID</th>\n",
       "      <th>shop_id</th>\n",
       "      <th>item_id</th>\n",
       "    </tr>\n",
       "  </thead>\n",
       "  <tbody>\n",
       "    <tr>\n",
       "      <th>0</th>\n",
       "      <td>0</td>\n",
       "      <td>5</td>\n",
       "      <td>5037</td>\n",
       "    </tr>\n",
       "    <tr>\n",
       "      <th>1</th>\n",
       "      <td>1</td>\n",
       "      <td>5</td>\n",
       "      <td>5320</td>\n",
       "    </tr>\n",
       "    <tr>\n",
       "      <th>2</th>\n",
       "      <td>2</td>\n",
       "      <td>5</td>\n",
       "      <td>5233</td>\n",
       "    </tr>\n",
       "    <tr>\n",
       "      <th>3</th>\n",
       "      <td>3</td>\n",
       "      <td>5</td>\n",
       "      <td>5232</td>\n",
       "    </tr>\n",
       "    <tr>\n",
       "      <th>4</th>\n",
       "      <td>4</td>\n",
       "      <td>5</td>\n",
       "      <td>5268</td>\n",
       "    </tr>\n",
       "  </tbody>\n",
       "</table>\n",
       "</div>"
      ],
      "text/plain": [
       "   ID  shop_id  item_id\n",
       "0   0        5     5037\n",
       "1   1        5     5320\n",
       "2   2        5     5233\n",
       "3   3        5     5232\n",
       "4   4        5     5268"
      ]
     },
     "execution_count": 9,
     "metadata": {},
     "output_type": "execute_result"
    }
   ],
   "source": [
    "test = pd.read_csv(os.path.join(DATA_FOLDER, 'test.csv.gz'))\n",
    "print(test.shape)\n",
    "test.head()"
   ]
  },
  {
   "cell_type": "code",
   "execution_count": 41,
   "metadata": {},
   "outputs": [],
   "source": [
    "index_cols = ['shop_id', 'item_id', 'date_block_num']\n",
    "index_cols_shop = ['shop_id', 'date_block_num']\n",
    "index_cols_item = ['item_id', 'date_block_num']\n",
    "index_cols_category = ['item_category_id', 'date_block_num']\n",
    "\n",
    "data_cols = ['item_price', 'item_cnt_day']\n",
    "future_index_cols = ['shop_id','item_id']\n",
    "\n",
    "target_cols = ['target', 'revenue', 'target_shop', 'revenue_per_shop', 'target_item', 'revenue_per_item', 'target_category', 'revenue_per_category', 'target_item_price']"
   ]
  },
  {
   "cell_type": "code",
   "execution_count": 11,
   "metadata": {},
   "outputs": [],
   "source": [
    "# Prepare data with all the sales of train and test\n",
    "# the test sales are unknown so equal to zero\n",
    "# the test data belongs to date_block_num 34, because of the competition rules\n",
    "\n",
    "sales = sales[index_cols + data_cols].copy()\n",
    "sales_test = test[future_index_cols].copy()\n",
    "sales_test['date_block_num'] = 34\n",
    "sales_test['item_price'] = 0\n",
    "sales_test['item_cnt_day'] = 0\n",
    "all_sales = sales.append(sales_test, ignore_index=True)"
   ]
  },
  {
   "cell_type": "code",
   "execution_count": 12,
   "metadata": {},
   "outputs": [
    {
     "data": {
      "text/html": [
       "<div>\n",
       "<style>\n",
       "    .dataframe thead tr:only-child th {\n",
       "        text-align: right;\n",
       "    }\n",
       "\n",
       "    .dataframe thead th {\n",
       "        text-align: left;\n",
       "    }\n",
       "\n",
       "    .dataframe tbody tr th {\n",
       "        vertical-align: top;\n",
       "    }\n",
       "</style>\n",
       "<table border=\"1\" class=\"dataframe\">\n",
       "  <thead>\n",
       "    <tr style=\"text-align: right;\">\n",
       "      <th></th>\n",
       "      <th>shop_id</th>\n",
       "      <th>item_id</th>\n",
       "      <th>date_block_num</th>\n",
       "      <th>item_price</th>\n",
       "      <th>item_cnt_day</th>\n",
       "    </tr>\n",
       "  </thead>\n",
       "  <tbody>\n",
       "    <tr>\n",
       "      <th>0</th>\n",
       "      <td>59</td>\n",
       "      <td>22154</td>\n",
       "      <td>0</td>\n",
       "      <td>999.00</td>\n",
       "      <td>1.0</td>\n",
       "    </tr>\n",
       "    <tr>\n",
       "      <th>1</th>\n",
       "      <td>25</td>\n",
       "      <td>2552</td>\n",
       "      <td>0</td>\n",
       "      <td>899.00</td>\n",
       "      <td>1.0</td>\n",
       "    </tr>\n",
       "    <tr>\n",
       "      <th>2</th>\n",
       "      <td>25</td>\n",
       "      <td>2552</td>\n",
       "      <td>0</td>\n",
       "      <td>899.00</td>\n",
       "      <td>-1.0</td>\n",
       "    </tr>\n",
       "    <tr>\n",
       "      <th>3</th>\n",
       "      <td>25</td>\n",
       "      <td>2554</td>\n",
       "      <td>0</td>\n",
       "      <td>1709.05</td>\n",
       "      <td>1.0</td>\n",
       "    </tr>\n",
       "    <tr>\n",
       "      <th>4</th>\n",
       "      <td>25</td>\n",
       "      <td>2555</td>\n",
       "      <td>0</td>\n",
       "      <td>1099.00</td>\n",
       "      <td>1.0</td>\n",
       "    </tr>\n",
       "  </tbody>\n",
       "</table>\n",
       "</div>"
      ],
      "text/plain": [
       "   shop_id  item_id  date_block_num  item_price  item_cnt_day\n",
       "0       59    22154               0      999.00           1.0\n",
       "1       25     2552               0      899.00           1.0\n",
       "2       25     2552               0      899.00          -1.0\n",
       "3       25     2554               0     1709.05           1.0\n",
       "4       25     2555               0     1099.00           1.0"
      ]
     },
     "execution_count": 12,
     "metadata": {},
     "output_type": "execute_result"
    }
   ],
   "source": [
    "all_sales.head()"
   ]
  },
  {
   "cell_type": "code",
   "execution_count": 13,
   "metadata": {},
   "outputs": [],
   "source": [
    "# Add revenue (maybe will be useful)\n",
    "all_sales['revenue'] = all_sales['item_price'] * all_sales['item_cnt_day']\n",
    "\n",
    "# Add item category (maybe will be useful)\n",
    "items2 = items[['item_id','item_category_id']]\n",
    "all_sales = all_sales.join(items2.set_index('item_id'), on='item_id')"
   ]
  },
  {
   "cell_type": "code",
   "execution_count": 14,
   "metadata": {},
   "outputs": [],
   "source": [
    "# For every month we create a grid from all shops/items combinations from that month\n",
    "grid = [] \n",
    "for block_num in all_sales['date_block_num'].unique():\n",
    "    cur_shops = all_sales[all_sales['date_block_num']==block_num]['shop_id'].unique()\n",
    "    cur_items = all_sales[all_sales['date_block_num']==block_num]['item_id'].unique()\n",
    "    grid.append(np.array(list(product(*[cur_shops, cur_items, [block_num]])),dtype='int32'))\n",
    "\n",
    "#turn the grid into pandas dataframe\n",
    "grid = pd.DataFrame(np.vstack(grid), columns = index_cols,dtype=np.int32)"
   ]
  },
  {
   "cell_type": "code",
   "execution_count": 15,
   "metadata": {},
   "outputs": [
    {
     "name": "stderr",
     "output_type": "stream",
     "text": [
      "D:\\anaconda3\\anaconda3\\envs\\scipy0.19.1\\lib\\site-packages\\pandas\\core\\groupby.py:4036: FutureWarning: using a dict with renaming is deprecated and will be removed in a future version\n",
      "  return super(DataFrameGroupBy, self).aggregate(arg, *args, **kwargs)\n"
     ]
    }
   ],
   "source": [
    "# Create base aggregations\n",
    "\n",
    "# get aggregated values for (shop_id, item_id, month)\n",
    "agg_dict = {'item_cnt_day':{'target':'sum'}, 'revenue':{'revenue':'sum'}}\n",
    "gb = all_sales.groupby(index_cols,as_index=False).agg(agg_dict)\n",
    "gb.columns = [col[0] if col[-1]=='' else col[-1] for col in gb.columns.values] #fix column names\n",
    "\n",
    "# join aggregated data to the grid\n",
    "all_data = pd.merge(grid,gb,how='left',on=index_cols).fillna(0)\n",
    "\n",
    "# sort the data\n",
    "all_data.sort_values(['date_block_num','shop_id','item_id'],inplace=True)\n",
    "\n",
    "# add shop-month aggregates\n",
    "agg_dict = {'item_cnt_day':{'target_shop':'sum'}, 'revenue':{'revenue_per_shop':'sum'}}\n",
    "gb = all_sales.groupby(index_cols_shop,as_index=False).agg(agg_dict)\n",
    "gb.columns = [col[0] if col[-1]=='' else col[-1] for col in gb.columns.values]\n",
    "all_data = pd.merge(all_data, gb, how='left', on=index_cols_shop).fillna(0)\n",
    "\n",
    "# add item-month aggregates\n",
    "agg_dict = {'item_cnt_day':{'target_item':'sum'}, 'revenue':{'revenue_per_item':'sum'}}\n",
    "gb = all_sales.groupby(index_cols_item,as_index=False).agg(agg_dict)\n",
    "gb.columns = [col[0] if col[-1] == '' else col[-1] for col in gb.columns.values]\n",
    "all_data = pd.merge(all_data, gb, how='left', on=index_cols_item).fillna(0)\n",
    "\n",
    "# add itemcategory-month aggregates\n",
    "agg_dict = {'item_cnt_day':{'target_category':'sum'}, 'revenue':{'revenue_per_category':'sum'}}\n",
    "gb = all_sales.groupby(index_cols_category,as_index=False).agg(agg_dict)\n",
    "gb.columns = [col[0] if col[-1] == '' else col[-1] for col in gb.columns.values]\n",
    "all_data = pd.merge(all_data, items2, how='left', on='item_id').fillna(0)\n",
    "all_data = pd.merge(all_data, gb, how='left', on=index_cols_category).fillna(0)\n",
    "\n",
    "# add item-month average price\n",
    "all_data['target_item_price'] = all_data['revenue_per_item'] / all_data['target_item']\n",
    "all_data['target_item_price'] = all_data['target_item_price'].replace(-np.inf, np.nan)\n",
    "all_data['target_item_price'] = all_data['target_item_price'].replace(np.inf, np.nan)\n",
    "all_data['target_item_price'] = all_data['target_item_price'].fillna(0)\n",
    "\n",
    "# Downcast dtypes from 64 to 32 bit to save memory\n",
    "all_data = downcast_dtypes(all_data)"
   ]
  },
  {
   "cell_type": "code",
   "execution_count": 16,
   "metadata": {},
   "outputs": [
    {
     "data": {
      "text/html": [
       "<div>\n",
       "<style>\n",
       "    .dataframe thead tr:only-child th {\n",
       "        text-align: right;\n",
       "    }\n",
       "\n",
       "    .dataframe thead th {\n",
       "        text-align: left;\n",
       "    }\n",
       "\n",
       "    .dataframe tbody tr th {\n",
       "        vertical-align: top;\n",
       "    }\n",
       "</style>\n",
       "<table border=\"1\" class=\"dataframe\">\n",
       "  <thead>\n",
       "    <tr style=\"text-align: right;\">\n",
       "      <th></th>\n",
       "      <th>shop_id</th>\n",
       "      <th>item_id</th>\n",
       "      <th>date_block_num</th>\n",
       "      <th>target</th>\n",
       "      <th>revenue</th>\n",
       "      <th>target_shop</th>\n",
       "      <th>revenue_per_shop</th>\n",
       "      <th>target_item</th>\n",
       "      <th>revenue_per_item</th>\n",
       "      <th>item_category_id</th>\n",
       "      <th>target_category</th>\n",
       "      <th>revenue_per_category</th>\n",
       "      <th>target_item_price</th>\n",
       "    </tr>\n",
       "  </thead>\n",
       "  <tbody>\n",
       "    <tr>\n",
       "      <th>0</th>\n",
       "      <td>0</td>\n",
       "      <td>19</td>\n",
       "      <td>0</td>\n",
       "      <td>0.0</td>\n",
       "      <td>0.0</td>\n",
       "      <td>5578.0</td>\n",
       "      <td>2966412.0</td>\n",
       "      <td>1.0</td>\n",
       "      <td>28.000000</td>\n",
       "      <td>40</td>\n",
       "      <td>33489.0</td>\n",
       "      <td>8667237.0</td>\n",
       "      <td>28.000000</td>\n",
       "    </tr>\n",
       "    <tr>\n",
       "      <th>1</th>\n",
       "      <td>0</td>\n",
       "      <td>27</td>\n",
       "      <td>0</td>\n",
       "      <td>0.0</td>\n",
       "      <td>0.0</td>\n",
       "      <td>5578.0</td>\n",
       "      <td>2966412.0</td>\n",
       "      <td>7.0</td>\n",
       "      <td>16275.000000</td>\n",
       "      <td>19</td>\n",
       "      <td>8983.0</td>\n",
       "      <td>14095792.0</td>\n",
       "      <td>2325.000000</td>\n",
       "    </tr>\n",
       "    <tr>\n",
       "      <th>2</th>\n",
       "      <td>0</td>\n",
       "      <td>28</td>\n",
       "      <td>0</td>\n",
       "      <td>0.0</td>\n",
       "      <td>0.0</td>\n",
       "      <td>5578.0</td>\n",
       "      <td>2966412.0</td>\n",
       "      <td>8.0</td>\n",
       "      <td>4392.000000</td>\n",
       "      <td>30</td>\n",
       "      <td>22216.0</td>\n",
       "      <td>10012800.0</td>\n",
       "      <td>549.000000</td>\n",
       "    </tr>\n",
       "    <tr>\n",
       "      <th>3</th>\n",
       "      <td>0</td>\n",
       "      <td>29</td>\n",
       "      <td>0</td>\n",
       "      <td>0.0</td>\n",
       "      <td>0.0</td>\n",
       "      <td>5578.0</td>\n",
       "      <td>2966412.0</td>\n",
       "      <td>4.0</td>\n",
       "      <td>9387.000000</td>\n",
       "      <td>23</td>\n",
       "      <td>4150.0</td>\n",
       "      <td>7662671.5</td>\n",
       "      <td>2346.750000</td>\n",
       "    </tr>\n",
       "    <tr>\n",
       "      <th>4</th>\n",
       "      <td>0</td>\n",
       "      <td>32</td>\n",
       "      <td>0</td>\n",
       "      <td>6.0</td>\n",
       "      <td>1326.0</td>\n",
       "      <td>5578.0</td>\n",
       "      <td>2966412.0</td>\n",
       "      <td>299.0</td>\n",
       "      <td>101515.859375</td>\n",
       "      <td>40</td>\n",
       "      <td>33489.0</td>\n",
       "      <td>8667237.0</td>\n",
       "      <td>339.517914</td>\n",
       "    </tr>\n",
       "  </tbody>\n",
       "</table>\n",
       "</div>"
      ],
      "text/plain": [
       "   shop_id  item_id  date_block_num  target  revenue  target_shop  \\\n",
       "0        0       19               0     0.0      0.0       5578.0   \n",
       "1        0       27               0     0.0      0.0       5578.0   \n",
       "2        0       28               0     0.0      0.0       5578.0   \n",
       "3        0       29               0     0.0      0.0       5578.0   \n",
       "4        0       32               0     6.0   1326.0       5578.0   \n",
       "\n",
       "   revenue_per_shop  target_item  revenue_per_item  item_category_id  \\\n",
       "0         2966412.0          1.0         28.000000                40   \n",
       "1         2966412.0          7.0      16275.000000                19   \n",
       "2         2966412.0          8.0       4392.000000                30   \n",
       "3         2966412.0          4.0       9387.000000                23   \n",
       "4         2966412.0        299.0     101515.859375                40   \n",
       "\n",
       "   target_category  revenue_per_category  target_item_price  \n",
       "0          33489.0             8667237.0          28.000000  \n",
       "1           8983.0            14095792.0        2325.000000  \n",
       "2          22216.0            10012800.0         549.000000  \n",
       "3           4150.0             7662671.5        2346.750000  \n",
       "4          33489.0             8667237.0         339.517914  "
      ]
     },
     "execution_count": 16,
     "metadata": {},
     "output_type": "execute_result"
    }
   ],
   "source": [
    "all_data.head()"
   ]
  },
  {
   "cell_type": "code",
   "execution_count": 17,
   "metadata": {},
   "outputs": [],
   "source": [
    "train = all_data[all_data['date_block_num'] < 34]"
   ]
  },
  {
   "cell_type": "code",
   "execution_count": 18,
   "metadata": {
    "scrolled": false
   },
   "outputs": [
    {
     "name": "stderr",
     "output_type": "stream",
     "text": [
      "D:\\anaconda3\\anaconda3\\envs\\scipy0.19.1\\lib\\site-packages\\pandas\\plotting\\_tools.py:308: MatplotlibDeprecationWarning: \n",
      "The rowNum attribute was deprecated in Matplotlib 3.2 and will be removed two minor releases later. Use ax.get_subplotspec().rowspan.start instead.\n",
      "  layout[ax.rowNum, ax.colNum] = ax.get_visible()\n",
      "D:\\anaconda3\\anaconda3\\envs\\scipy0.19.1\\lib\\site-packages\\pandas\\plotting\\_tools.py:308: MatplotlibDeprecationWarning: \n",
      "The colNum attribute was deprecated in Matplotlib 3.2 and will be removed two minor releases later. Use ax.get_subplotspec().colspan.start instead.\n",
      "  layout[ax.rowNum, ax.colNum] = ax.get_visible()\n",
      "D:\\anaconda3\\anaconda3\\envs\\scipy0.19.1\\lib\\site-packages\\pandas\\plotting\\_tools.py:314: MatplotlibDeprecationWarning: \n",
      "The rowNum attribute was deprecated in Matplotlib 3.2 and will be removed two minor releases later. Use ax.get_subplotspec().rowspan.start instead.\n",
      "  if not layout[ax.rowNum + 1, ax.colNum]:\n",
      "D:\\anaconda3\\anaconda3\\envs\\scipy0.19.1\\lib\\site-packages\\pandas\\plotting\\_tools.py:314: MatplotlibDeprecationWarning: \n",
      "The colNum attribute was deprecated in Matplotlib 3.2 and will be removed two minor releases later. Use ax.get_subplotspec().colspan.start instead.\n",
      "  if not layout[ax.rowNum + 1, ax.colNum]:\n"
     ]
    },
    {
     "data": {
      "image/png": "[encoded data removed]",
      "text/plain": [
       "<Figure size 1584x1440 with 16 Axes>"
      ]
     },
     "metadata": {
      "needs_background": "light"
     },
     "output_type": "display_data"
    }
   ],
   "source": [
    "# Data histograms\n",
    "p = train.hist(figsize = (22,20))\n",
    "plt.show()"
   ]
  },
  {
   "cell_type": "code",
   "execution_count": 19,
   "metadata": {},
   "outputs": [
    {
     "data": {
      "image/png": "[encoded data removed]",
      "text/plain": [
       "<Figure size 1080x1080 with 2 Axes>"
      ]
     },
     "metadata": {
      "needs_background": "light"
     },
     "output_type": "display_data"
    }
   ],
   "source": [
    "# Correlations\n",
    "corr_mat = train.corr()\n",
    "fig = plt.figure(figsize = (15,15))\n",
    "\n",
    "p = seaborn.heatmap(corr_mat, vmax = .8, square = True)\n",
    "plt.show()"
   ]
  },
  {
   "cell_type": "markdown",
   "metadata": {},
   "source": [
    "The target is highly correlated with the item and the revenue but not much with the shop"
   ]
  },
  {
   "cell_type": "code",
   "execution_count": 20,
   "metadata": {},
   "outputs": [
    {
     "data": {
      "image/png": "[encoded data removed]",
      "text/plain": [
       "<Figure size 432x288 with 1 Axes>"
      ]
     },
     "metadata": {
      "needs_background": "light"
     },
     "output_type": "display_data"
    },
    {
     "data": {
      "image/png": "[encoded data removed]",
      "text/plain": [
       "<Figure size 432x288 with 1 Axes>"
      ]
     },
     "metadata": {
      "needs_background": "light"
     },
     "output_type": "display_data"
    }
   ],
   "source": [
    "s = train.groupby(by='date_block_num')['target'].sum()\n",
    "p = s.plot(color='red')\n",
    "p = plt.bar(s.index,s)\n",
    "p = plt.title('Num of sold items per month')\n",
    "p = plt.show()\n",
    "\n",
    "s = train.groupby(by='date_block_num')['revenue'].sum()\n",
    "p = s.plot(color='red')\n",
    "p = plt.bar(s.index,s)\n",
    "p = plt.title('Total revenue per month')\n",
    "p = plt.show()"
   ]
  },
  {
   "cell_type": "markdown",
   "metadata": {},
   "source": [
    "# Advanced Features I: mean encodings"
   ]
  },
  {
   "cell_type": "code",
   "execution_count": 21,
   "metadata": {},
   "outputs": [
    {
     "data": {
      "text/plain": [
       "0.9999901243319362"
      ]
     },
     "execution_count": 21,
     "metadata": {},
     "output_type": "execute_result"
    }
   ],
   "source": [
    "global_mean = all_data['item_category_id'].mean()\n",
    "    \n",
    "cumsum = all_data.groupby('item_category_id')['item_category_id'].cumsum() - all_data['item_category_id']\n",
    "cumcnt = all_data.groupby('item_category_id').cumcount()\n",
    "\n",
    "all_data['item_category_id_enc'] = cumsum / cumcnt\n",
    "all_data['item_category_id_enc'].fillna(global_mean, inplace=True)\n",
    "\n",
    "corr = np.corrcoef(all_data['item_category_id'].values, all_data['item_category_id_enc'].values)[0][1]\n",
    "corr"
   ]
  },
  {
   "cell_type": "code",
   "execution_count": 22,
   "metadata": {},
   "outputs": [],
   "source": [
    "# List of columns that we will use to create lags\n",
    "cols_to_lag = ['target', 'target_shop']\n",
    "shift_range = [1, 2, 3, 4, 5, 12]"
   ]
  },
  {
   "cell_type": "code",
   "execution_count": 23,
   "metadata": {},
   "outputs": [
    {
     "ename": "NameError",
     "evalue": "name 'train_shift' is not defined",
     "output_type": "error",
     "traceback": [
      "\u001b[1;31m---------------------------------------------------------------------------\u001b[0m",
      "\u001b[1;31mNameError\u001b[0m                                 Traceback (most recent call last)",
      "\u001b[1;32m<ipython-input-23-c738bc494b18>\u001b[0m in \u001b[0;36m<module>\u001b[1;34m\u001b[0m\n\u001b[0;32m     11\u001b[0m     \u001b[1;32mdel\u001b[0m \u001b[0mtrain_shift\u001b[0m\u001b[1;33m\u001b[0m\u001b[1;33m\u001b[0m\u001b[0m\n\u001b[0;32m     12\u001b[0m \u001b[1;33m\u001b[0m\u001b[0m\n\u001b[1;32m---> 13\u001b[1;33m \u001b[1;32mdel\u001b[0m \u001b[0mtrain_shift\u001b[0m\u001b[1;33m\u001b[0m\u001b[1;33m\u001b[0m\u001b[0m\n\u001b[0m",
      "\u001b[1;31mNameError\u001b[0m: name 'train_shift' is not defined"
     ]
    }
   ],
   "source": [
    "for month_shift in shift_range:\n",
    "    train_shift = all_data[index_cols + cols_to_lag].copy()\n",
    "    \n",
    "    train_shift['date_block_num'] = train_shift['date_block_num'] + month_shift\n",
    "    \n",
    "    foo = lambda x: '{}_lag_{}'.format(x, month_shift) if x in cols_to_lag else x\n",
    "    train_shift = train_shift.rename(columns=foo)\n",
    "\n",
    "    all_data = pd.merge(all_data, train_shift, on=index_cols, how='left').fillna(0)\n",
    "    \n",
    "    del train_shift"
   ]
  },
  {
   "cell_type": "code",
   "execution_count": 27,
   "metadata": {},
   "outputs": [],
   "source": [
    "# Don't use old data from year 2013\n",
    "all_data = all_data[all_data['date_block_num'] >= 12]\n",
    "\n",
    "all_data = downcast_dtypes(all_data)\n",
    "res = gc.collect()"
   ]
  },
  {
   "cell_type": "code",
   "execution_count": 28,
   "metadata": {
    "scrolled": true
   },
   "outputs": [
    {
     "data": {
      "text/html": [
       "<div>\n",
       "<style>\n",
       "    .dataframe thead tr:only-child th {\n",
       "        text-align: right;\n",
       "    }\n",
       "\n",
       "    .dataframe thead th {\n",
       "        text-align: left;\n",
       "    }\n",
       "\n",
       "    .dataframe tbody tr th {\n",
       "        vertical-align: top;\n",
       "    }\n",
       "</style>\n",
       "<table border=\"1\" class=\"dataframe\">\n",
       "  <thead>\n",
       "    <tr style=\"text-align: right;\">\n",
       "      <th></th>\n",
       "      <th>shop_id</th>\n",
       "      <th>item_id</th>\n",
       "      <th>date_block_num</th>\n",
       "      <th>target</th>\n",
       "      <th>revenue</th>\n",
       "      <th>target_shop</th>\n",
       "      <th>revenue_per_shop</th>\n",
       "      <th>target_item</th>\n",
       "      <th>revenue_per_item</th>\n",
       "      <th>item_category_id</th>\n",
       "      <th>...</th>\n",
       "      <th>target_lag_2</th>\n",
       "      <th>target_shop_lag_2</th>\n",
       "      <th>target_lag_3</th>\n",
       "      <th>target_shop_lag_3</th>\n",
       "      <th>target_lag_4</th>\n",
       "      <th>target_shop_lag_4</th>\n",
       "      <th>target_lag_5</th>\n",
       "      <th>target_shop_lag_5</th>\n",
       "      <th>target_lag_12</th>\n",
       "      <th>target_shop_lag_12</th>\n",
       "    </tr>\n",
       "  </thead>\n",
       "  <tbody>\n",
       "    <tr>\n",
       "      <th>4488756</th>\n",
       "      <td>2</td>\n",
       "      <td>27</td>\n",
       "      <td>12</td>\n",
       "      <td>0.0</td>\n",
       "      <td>0.0</td>\n",
       "      <td>890.0</td>\n",
       "      <td>1032722.0</td>\n",
       "      <td>1.0</td>\n",
       "      <td>998.0</td>\n",
       "      <td>19</td>\n",
       "      <td>...</td>\n",
       "      <td>0.0</td>\n",
       "      <td>862.0</td>\n",
       "      <td>0.0</td>\n",
       "      <td>795.0</td>\n",
       "      <td>0.0</td>\n",
       "      <td>945.0</td>\n",
       "      <td>0.0</td>\n",
       "      <td>875.0</td>\n",
       "      <td>1.0</td>\n",
       "      <td>1146.0</td>\n",
       "    </tr>\n",
       "    <tr>\n",
       "      <th>4488757</th>\n",
       "      <td>2</td>\n",
       "      <td>30</td>\n",
       "      <td>12</td>\n",
       "      <td>0.0</td>\n",
       "      <td>0.0</td>\n",
       "      <td>890.0</td>\n",
       "      <td>1032722.0</td>\n",
       "      <td>58.0</td>\n",
       "      <td>9802.0</td>\n",
       "      <td>40</td>\n",
       "      <td>...</td>\n",
       "      <td>0.0</td>\n",
       "      <td>862.0</td>\n",
       "      <td>0.0</td>\n",
       "      <td>795.0</td>\n",
       "      <td>0.0</td>\n",
       "      <td>945.0</td>\n",
       "      <td>0.0</td>\n",
       "      <td>875.0</td>\n",
       "      <td>0.0</td>\n",
       "      <td>0.0</td>\n",
       "    </tr>\n",
       "    <tr>\n",
       "      <th>4488758</th>\n",
       "      <td>2</td>\n",
       "      <td>31</td>\n",
       "      <td>12</td>\n",
       "      <td>0.0</td>\n",
       "      <td>0.0</td>\n",
       "      <td>890.0</td>\n",
       "      <td>1032722.0</td>\n",
       "      <td>15.0</td>\n",
       "      <td>7485.0</td>\n",
       "      <td>37</td>\n",
       "      <td>...</td>\n",
       "      <td>0.0</td>\n",
       "      <td>862.0</td>\n",
       "      <td>0.0</td>\n",
       "      <td>795.0</td>\n",
       "      <td>0.0</td>\n",
       "      <td>945.0</td>\n",
       "      <td>0.0</td>\n",
       "      <td>875.0</td>\n",
       "      <td>0.0</td>\n",
       "      <td>0.0</td>\n",
       "    </tr>\n",
       "    <tr>\n",
       "      <th>4488759</th>\n",
       "      <td>2</td>\n",
       "      <td>32</td>\n",
       "      <td>12</td>\n",
       "      <td>1.0</td>\n",
       "      <td>119.0</td>\n",
       "      <td>890.0</td>\n",
       "      <td>1032722.0</td>\n",
       "      <td>84.0</td>\n",
       "      <td>12190.0</td>\n",
       "      <td>40</td>\n",
       "      <td>...</td>\n",
       "      <td>0.0</td>\n",
       "      <td>862.0</td>\n",
       "      <td>0.0</td>\n",
       "      <td>795.0</td>\n",
       "      <td>0.0</td>\n",
       "      <td>945.0</td>\n",
       "      <td>0.0</td>\n",
       "      <td>875.0</td>\n",
       "      <td>0.0</td>\n",
       "      <td>1146.0</td>\n",
       "    </tr>\n",
       "    <tr>\n",
       "      <th>4488760</th>\n",
       "      <td>2</td>\n",
       "      <td>33</td>\n",
       "      <td>12</td>\n",
       "      <td>1.0</td>\n",
       "      <td>199.0</td>\n",
       "      <td>890.0</td>\n",
       "      <td>1032722.0</td>\n",
       "      <td>42.0</td>\n",
       "      <td>8296.0</td>\n",
       "      <td>37</td>\n",
       "      <td>...</td>\n",
       "      <td>2.0</td>\n",
       "      <td>862.0</td>\n",
       "      <td>0.0</td>\n",
       "      <td>795.0</td>\n",
       "      <td>0.0</td>\n",
       "      <td>945.0</td>\n",
       "      <td>0.0</td>\n",
       "      <td>875.0</td>\n",
       "      <td>1.0</td>\n",
       "      <td>1146.0</td>\n",
       "    </tr>\n",
       "  </tbody>\n",
       "</table>\n",
       "<p>5 rows × 26 columns</p>\n",
       "</div>"
      ],
      "text/plain": [
       "         shop_id  item_id  date_block_num  target  revenue  target_shop  \\\n",
       "4488756        2       27              12     0.0      0.0        890.0   \n",
       "4488757        2       30              12     0.0      0.0        890.0   \n",
       "4488758        2       31              12     0.0      0.0        890.0   \n",
       "4488759        2       32              12     1.0    119.0        890.0   \n",
       "4488760        2       33              12     1.0    199.0        890.0   \n",
       "\n",
       "         revenue_per_shop  target_item  revenue_per_item  item_category_id  \\\n",
       "4488756         1032722.0          1.0             998.0                19   \n",
       "4488757         1032722.0         58.0            9802.0                40   \n",
       "4488758         1032722.0         15.0            7485.0                37   \n",
       "4488759         1032722.0         84.0           12190.0                40   \n",
       "4488760         1032722.0         42.0            8296.0                37   \n",
       "\n",
       "                ...          target_lag_2  target_shop_lag_2  target_lag_3  \\\n",
       "4488756         ...                   0.0              862.0           0.0   \n",
       "4488757         ...                   0.0              862.0           0.0   \n",
       "4488758         ...                   0.0              862.0           0.0   \n",
       "4488759         ...                   0.0              862.0           0.0   \n",
       "4488760         ...                   2.0              862.0           0.0   \n",
       "\n",
       "         target_shop_lag_3  target_lag_4  target_shop_lag_4  target_lag_5  \\\n",
       "4488756              795.0           0.0              945.0           0.0   \n",
       "4488757              795.0           0.0              945.0           0.0   \n",
       "4488758              795.0           0.0              945.0           0.0   \n",
       "4488759              795.0           0.0              945.0           0.0   \n",
       "4488760              795.0           0.0              945.0           0.0   \n",
       "\n",
       "         target_shop_lag_5  target_lag_12  target_shop_lag_12  \n",
       "4488756              875.0            1.0              1146.0  \n",
       "4488757              875.0            0.0                 0.0  \n",
       "4488758              875.0            0.0                 0.0  \n",
       "4488759              875.0            0.0              1146.0  \n",
       "4488760              875.0            1.0              1146.0  \n",
       "\n",
       "[5 rows x 26 columns]"
      ]
     },
     "execution_count": 28,
     "metadata": {},
     "output_type": "execute_result"
    }
   ],
   "source": [
    "all_data.head()"
   ]
  },
  {
   "cell_type": "code",
   "execution_count": 29,
   "metadata": {},
   "outputs": [
    {
     "name": "stdout",
     "output_type": "stream",
     "text": [
      "shop_id                   int32\n",
      "item_id                   int32\n",
      "date_block_num            int32\n",
      "target                  float32\n",
      "revenue                 float32\n",
      "target_shop             float32\n",
      "revenue_per_shop        float32\n",
      "target_item             float32\n",
      "revenue_per_item        float32\n",
      "item_category_id          int32\n",
      "target_category         float32\n",
      "revenue_per_category    float32\n",
      "target_item_price       float32\n",
      "item_category_id_enc    float32\n",
      "target_lag_1            float32\n",
      "target_shop_lag_1       float32\n",
      "target_lag_2            float32\n",
      "target_shop_lag_2       float32\n",
      "target_lag_3            float32\n",
      "target_shop_lag_3       float32\n",
      "target_lag_4            float32\n",
      "target_shop_lag_4       float32\n",
      "target_lag_5            float32\n",
      "target_shop_lag_5       float32\n",
      "target_lag_12           float32\n",
      "target_shop_lag_12      float32\n",
      "dtype: object\n"
     ]
    }
   ],
   "source": [
    "print(all_data.dtypes)"
   ]
  },
  {
   "cell_type": "code",
   "execution_count": 32,
   "metadata": {},
   "outputs": [],
   "source": [
    "# Save features\n",
    "all_data.to_hdf('features/features.h5', key='df', mode='w', complib='zlib') #overwrite"
   ]
  },
  {
   "cell_type": "markdown",
   "metadata": {},
   "source": [
    "# TUNING MODELS"
   ]
  },
  {
   "cell_type": "code",
   "execution_count": 49,
   "metadata": {},
   "outputs": [],
   "source": [
    "from sklearn import feature_extraction\n",
    "from sklearn.svm import SVR\n",
    "from sklearn.linear_model import LinearRegression, ElasticNet, ElasticNetCV\n",
    "from sklearn.preprocessing import PolynomialFeatures\n",
    "from sklearn.pipeline import Pipeline\n",
    "from sklearn.neighbors import KNeighborsRegressor\n",
    "from sklearn.ensemble import RandomForestRegressor\n",
    "from sklearn.metrics import r2_score, mean_squared_error\n",
    "from sklearn.model_selection import GridSearchCV, PredefinedSplit\n",
    "from sklearn.tree import DecisionTreeRegressor"
   ]
  },
  {
   "cell_type": "code",
   "execution_count": 36,
   "metadata": {},
   "outputs": [],
   "source": [
    "# Load features\n",
    "all_data = pd.read_hdf('features/features.h5', 'df')"
   ]
  },
  {
   "cell_type": "code",
   "execution_count": 42,
   "metadata": {},
   "outputs": [],
   "source": [
    "# Remove index and targets (no leakages)\n",
    "fit_cols = list(all_data.columns)\n",
    "fit_cols = remove_from_list(fit_cols, index_cols)\n",
    "fit_cols = remove_from_list(fit_cols, target_cols)"
   ]
  },
  {
   "cell_type": "code",
   "execution_count": 43,
   "metadata": {},
   "outputs": [],
   "source": [
    "# Dataset split\n",
    "# The dataset has a timeline, get last month of train as validation data.\n",
    "test_month = max(all_data['date_block_num']) \n",
    "\n",
    "val_month = max(all_data['date_block_num']) - 1    \n",
    "\n",
    "dates = all_data['date_block_num']\n",
    "dates_train  = dates[dates <  val_month]\n",
    "dates_val = dates[dates == val_month]\n",
    "dates_test  = dates[dates == test_month]\n",
    "\n",
    "X_train = all_data[dates <  val_month][fit_cols]\n",
    "X_val = all_data[dates == val_month][fit_cols]\n",
    "X_test =  all_data[dates == test_month][fit_cols]\n",
    "\n",
    "y_train = all_data.loc[dates <  val_month, 'target'].values\n",
    "y_val = all_data.loc[dates == val_month, 'target'].values\n",
    "y_test =  all_data.loc[dates == test_month, 'target'].values"
   ]
  },
  {
   "cell_type": "code",
   "execution_count": 51,
   "metadata": {},
   "outputs": [],
   "source": [
    "# True target values are clipped into [0,20] range.\n",
    "target_range = [0, 20]\n",
    "\n",
    "def rmse_score(y_true, y_pred):\n",
    "    return math.sqrt(mean_squared_error(y_true, y_pred))"
   ]
  },
  {
   "cell_type": "markdown",
   "metadata": {},
   "source": [
    "## Linear Regressor"
   ]
  },
  {
   "cell_type": "code",
   "execution_count": 46,
   "metadata": {},
   "outputs": [
    {
     "name": "stdout",
     "output_type": "stream",
     "text": [
      "elapsed time: 24.02\n"
     ]
    }
   ],
   "source": [
    "# Fit\n",
    "t_start = time.time()\n",
    "lr_model = LinearRegression()\n",
    "res = lr_model.fit(X_train.values, y_train) \n",
    "print(\"elapsed time: %.2f\" % (time.time() - t_start))"
   ]
  },
  {
   "cell_type": "code",
   "execution_count": 54,
   "metadata": {},
   "outputs": [
    {
     "name": "stdout",
     "output_type": "stream",
     "text": [
      "Train RMSE for linear regression is 0.970850\n",
      "Validation RMSE for linear regression is 1.006492\n"
     ]
    }
   ],
   "source": [
    "# Score\n",
    "pred_train_lr = lr_model.predict(X_train.values).clip(*target_range)\n",
    "print('Train RMSE for linear regression is %f' % rmse_score(y_train.clip(*target_range), pred_train_lr))\n",
    "\n",
    "pred_val_lr = lr_model.predict(X_val.values).clip(*target_range)\n",
    "print('Validation RMSE for linear regression is %f' % rmse_score(y_val.clip(*target_range), pred_val_lr))"
   ]
  },
  {
   "cell_type": "markdown",
   "metadata": {},
   "source": [
    "## LightGBM"
   ]
  },
  {
   "cell_type": "code",
   "execution_count": 55,
   "metadata": {},
   "outputs": [],
   "source": [
    "lgb_params = {\n",
    "               'feature_fraction': 0.75,\n",
    "               'metric': 'rmse',\n",
    "               'nthread':1, \n",
    "               'min_data_in_leaf': 2**7, \n",
    "               'bagging_fraction': 0.75, \n",
    "               'learning_rate': 0.03, \n",
    "               'objective': 'mse', \n",
    "               'bagging_seed': 2**7, \n",
    "               'num_leaves': 2**7,\n",
    "               'bagging_freq':1,\n",
    "               'verbose':0 \n",
    "              }\n",
    "\n",
    "lgb_iterations = 1000"
   ]
  },
  {
   "cell_type": "code",
   "execution_count": 56,
   "metadata": {},
   "outputs": [
    {
     "name": "stdout",
     "output_type": "stream",
     "text": [
      "[1]\tval's rmse: 1.12513\n",
      "Training until validation scores don't improve for 3 rounds\n",
      "[2]\tval's rmse: 1.11637\n",
      "[3]\tval's rmse: 1.10599\n",
      "[4]\tval's rmse: 1.0959\n",
      "[5]\tval's rmse: 1.08639\n",
      "[6]\tval's rmse: 1.07945\n",
      "[7]\tval's rmse: 1.07109\n",
      "[8]\tval's rmse: 1.06291\n",
      "[9]\tval's rmse: 1.05548\n",
      "[10]\tval's rmse: 1.04815\n",
      "[11]\tval's rmse: 1.04276\n",
      "[12]\tval's rmse: 1.03631\n",
      "[13]\tval's rmse: 1.03034\n",
      "[14]\tval's rmse: 1.02578\n",
      "[15]\tval's rmse: 1.02021\n",
      "[16]\tval's rmse: 1.01493\n",
      "[17]\tval's rmse: 1.01006\n",
      "[18]\tval's rmse: 1.00552\n",
      "[19]\tval's rmse: 1.00221\n",
      "[20]\tval's rmse: 0.998074\n",
      "[21]\tval's rmse: 0.994998\n",
      "[22]\tval's rmse: 0.991287\n",
      "[23]\tval's rmse: 0.98854\n",
      "[24]\tval's rmse: 0.985151\n",
      "[25]\tval's rmse: 0.981982\n",
      "[26]\tval's rmse: 0.97912\n",
      "[27]\tval's rmse: 0.976365\n",
      "[28]\tval's rmse: 0.973688\n",
      "[29]\tval's rmse: 0.97208\n",
      "[30]\tval's rmse: 0.970383\n",
      "[31]\tval's rmse: 0.968151\n",
      "[32]\tval's rmse: 0.966002\n",
      "[33]\tval's rmse: 0.96411\n",
      "[34]\tval's rmse: 0.96229\n",
      "[35]\tval's rmse: 0.960463\n",
      "[36]\tval's rmse: 0.958879\n",
      "[37]\tval's rmse: 0.957409\n",
      "[38]\tval's rmse: 0.956425\n",
      "[39]\tval's rmse: 0.955399\n",
      "[40]\tval's rmse: 0.954119\n",
      "[41]\tval's rmse: 0.953268\n",
      "[42]\tval's rmse: 0.952159\n",
      "[43]\tval's rmse: 0.951162\n",
      "[44]\tval's rmse: 0.950276\n",
      "[45]\tval's rmse: 0.949416\n",
      "[46]\tval's rmse: 0.948632\n",
      "[47]\tval's rmse: 0.947831\n",
      "[48]\tval's rmse: 0.947323\n",
      "[49]\tval's rmse: 0.946641\n",
      "[50]\tval's rmse: 0.946049\n",
      "[51]\tval's rmse: 0.945459\n",
      "[52]\tval's rmse: 0.944923\n",
      "[53]\tval's rmse: 0.944407\n",
      "[54]\tval's rmse: 0.944153\n",
      "[55]\tval's rmse: 0.943728\n",
      "[56]\tval's rmse: 0.943308\n",
      "[57]\tval's rmse: 0.942954\n",
      "[58]\tval's rmse: 0.942617\n",
      "[59]\tval's rmse: 0.942309\n",
      "[60]\tval's rmse: 0.941997\n",
      "[61]\tval's rmse: 0.941727\n",
      "[62]\tval's rmse: 0.94147\n",
      "[63]\tval's rmse: 0.941299\n",
      "[64]\tval's rmse: 0.941062\n",
      "[65]\tval's rmse: 0.940808\n",
      "[66]\tval's rmse: 0.940643\n",
      "[67]\tval's rmse: 0.940574\n",
      "[68]\tval's rmse: 0.940437\n",
      "[69]\tval's rmse: 0.940309\n",
      "[70]\tval's rmse: 0.940222\n",
      "[71]\tval's rmse: 0.94017\n",
      "[72]\tval's rmse: 0.940063\n",
      "[73]\tval's rmse: 0.939899\n",
      "[74]\tval's rmse: 0.939805\n",
      "[75]\tval's rmse: 0.939721\n",
      "[76]\tval's rmse: 0.939531\n",
      "[77]\tval's rmse: 0.939422\n",
      "[78]\tval's rmse: 0.939375\n",
      "[79]\tval's rmse: 0.939297\n",
      "[80]\tval's rmse: 0.939329\n",
      "[81]\tval's rmse: 0.939308\n",
      "[82]\tval's rmse: 0.939319\n",
      "Early stopping, best iteration is:\n",
      "[79]\tval's rmse: 0.939297\n"
     ]
    }
   ],
   "source": [
    "# Fit with early stopping to check the iterations (tuning)\n",
    "model_early = lgb.train(lgb_params, lgb.Dataset(X_train, label=y_train.clip(*target_range)), \n",
    "                        num_boost_round=lgb_iterations,\n",
    "                        valid_sets=[lgb.Dataset(X_val, label=y_val.clip(*target_range))], \n",
    "                        valid_names=['val'], \n",
    "                        early_stopping_rounds=3)"
   ]
  },
  {
   "cell_type": "code",
   "execution_count": 57,
   "metadata": {},
   "outputs": [
    {
     "name": "stdout",
     "output_type": "stream",
     "text": [
      "Train RMSE for LightGBM is 0.882189\n",
      "Validation RMSE for LightGBM is 0.939297\n"
     ]
    }
   ],
   "source": [
    "# Score\n",
    "pred_train_lgb = model_early.predict(X_train.values).clip(*target_range)\n",
    "print('Train RMSE for LightGBM is %f' % rmse_score(y_train.clip(*target_range), pred_train_lgb))\n",
    "\n",
    "pred_val_lgb = model_early.predict(X_val.values).clip(*target_range)\n",
    "print('Validation RMSE for LightGBM is %f' % rmse_score(y_val.clip(*target_range), pred_val_lgb))"
   ]
  },
  {
   "cell_type": "code",
   "execution_count": 58,
   "metadata": {},
   "outputs": [
    {
     "data": {
      "text/plain": [
       "9846"
      ]
     },
     "execution_count": 58,
     "metadata": {},
     "output_type": "execute_result"
    }
   ],
   "source": [
    "del(model_early)\n",
    "gc.collect()"
   ]
  },
  {
   "cell_type": "code",
   "execution_count": 59,
   "metadata": {},
   "outputs": [
    {
     "name": "stdout",
     "output_type": "stream",
     "text": [
      "2020-08-16 16:07:22.423318\n",
      "elapsed time: 129.89\n"
     ]
    }
   ],
   "source": [
    "# Chosen parameters for LightGBM\n",
    "lgb_iterations = 75\n",
    "\n",
    "# Fit to train\n",
    "print(datetime.datetime.now())\n",
    "t_start = time.time()\n",
    "lgb_model = lgb.train(lgb_params, \n",
    "                  lgb.Dataset(X_train, label=y_train.clip(*target_range)), \n",
    "                  num_boost_round=lgb_iterations)\n",
    "print(\"elapsed time: %.2f\" % (time.time() - t_start))"
   ]
  },
  {
   "cell_type": "code",
   "execution_count": 60,
   "metadata": {},
   "outputs": [
    {
     "name": "stdout",
     "output_type": "stream",
     "text": [
      "Train RMSE for LightGBM is 0.883985\n",
      "Validation RMSE for LightGBM is 0.939721\n"
     ]
    }
   ],
   "source": [
    "# Score\n",
    "pred_train_lgb = lgb_model.predict(X_train.values).clip(*target_range)\n",
    "print('Train RMSE for LightGBM is %f' % rmse_score(y_train.clip(*target_range), pred_train_lgb))\n",
    "\n",
    "pred_val_lgb = lgb_model.predict(X_val.values).clip(*target_range)\n",
    "print('Validation RMSE for LightGBM is %f' % rmse_score(y_val.clip(*target_range), pred_val_lgb))"
   ]
  },
  {
   "cell_type": "markdown",
   "metadata": {},
   "source": [
    "# ElasticNet"
   ]
  },
  {
   "cell_type": "code",
   "execution_count": 79,
   "metadata": {},
   "outputs": [],
   "source": [
    "def get_en_params(alpha=1.0, l1_ratio=0.5, max_iter=1000):\n",
    "    return {\n",
    "                 'max_iter': max_iter,\n",
    "                 'random_state': 0, # Changing this could generate ensembling options\n",
    "    \n",
    "                 'alpha': alpha,\n",
    "                 'l1_ratio': l1_ratio,\n",
    "\n",
    "                 'tol': 0.0001,\n",
    "                 'fit_intercept': True,\n",
    "                 'normalize': False,\n",
    "                 'positive': False,\n",
    "                 'precompute': False,\n",
    "                 'selection': 'cyclic',\n",
    "                 'copy_X': True,\n",
    "                 'warm_start': False\n",
    "            }"
   ]
  },
  {
   "cell_type": "code",
   "execution_count": 80,
   "metadata": {},
   "outputs": [
    {
     "name": "stdout",
     "output_type": "stream",
     "text": [
      "elapsed time: 15.14\n"
     ]
    }
   ],
   "source": [
    "# Default params\n",
    "en_params = get_en_params()\n",
    "\n",
    "# Fit to train with default parameters\n",
    "t_start = time.time()\n",
    "en_model = ElasticNet()\n",
    "en_model = en_model.set_params(**en_params)\n",
    "en_model = en_model.fit(X_train.values, y_train) \n",
    "print(\"elapsed time: %.2f\" % (time.time() - t_start))"
   ]
  },
  {
   "cell_type": "code",
   "execution_count": 81,
   "metadata": {},
   "outputs": [
    {
     "name": "stdout",
     "output_type": "stream",
     "text": [
      "Train RMSE for EN is 0.958512\n",
      "Validation RMSE for EN is 0.992922\n"
     ]
    }
   ],
   "source": [
    "# Score\n",
    "pred_train_en = en_model.predict(X_train.values).clip(*target_range)\n",
    "print('Train RMSE for EN is %f' % rmse_score(y_train.clip(*target_range), pred_train_en))\n",
    "\n",
    "pred_val_en = en_model.predict(X_val.values).clip(*target_range)\n",
    "print('Validation RMSE for EN is %f' % rmse_score(y_val.clip(*target_range), pred_val_en))"
   ]
  },
  {
   "cell_type": "code",
   "execution_count": null,
   "metadata": {},
   "outputs": [],
   "source": []
  },
  {
   "cell_type": "markdown",
   "metadata": {},
   "source": [
    "# Ensembling"
   ]
  },
  {
   "cell_type": "markdown",
   "metadata": {},
   "source": [
    "The stacking is the selected approach, combine two 1-st level models (LR and LGB) with a 2-nd level simple model (LinearConvexMix or LinearRegressor)\n",
    "The features will be created using the lectures f) KFold scheme in time series, with T=1_month and M=Total_months-6."
   ]
  },
  {
   "cell_type": "markdown",
   "metadata": {},
   "source": [
    "## Train meta features"
   ]
  },
  {
   "cell_type": "code",
   "execution_count": 61,
   "metadata": {},
   "outputs": [],
   "source": [
    "# The six last months are the chunks for folding.\n",
    "last_blocks = [27, 28, 29, 30, 31, 32]\n",
    "dates_train_level2 = dates_train[dates_train.isin(last_blocks)]"
   ]
  },
  {
   "cell_type": "code",
   "execution_count": 64,
   "metadata": {},
   "outputs": [
    {
     "name": "stdout",
     "output_type": "stream",
     "text": [
      "27:  X_block_train.shape=(4810730, 14),  X_block_val.shape=(257372, 14),   Total Size=5068102\n",
      "28:  X_block_train.shape=(5068102, 14),  X_block_val.shape=(232452, 14),   Total Size=5300554\n",
      "29:  X_block_train.shape=(5300554, 14),  X_block_val.shape=(224288, 14),   Total Size=5524842\n",
      "30:  X_block_train.shape=(5524842, 14),  X_block_val.shape=(228889, 14),   Total Size=5753731\n",
      "31:  X_block_train.shape=(5753731, 14),  X_block_val.shape=(214536, 14),   Total Size=5968267\n",
      "32:  X_block_train.shape=(5968267, 14),  X_block_val.shape=(218655, 14),   Total Size=6186922\n"
     ]
    }
   ],
   "source": [
    "# That is how we get target for the 2nd level dataset\n",
    "y_train_level2 = y_train[dates_train.isin(last_blocks)]\n",
    "\n",
    "# And here we create 2nd level feeature matrix, init it with zeros first\n",
    "X_train_level2 = np.zeros([y_train_level2.shape[0], 2])\n",
    "\n",
    "# Now fill `X_train_level2` with metafeatures\n",
    "for cur_block_num in last_blocks:\n",
    "    \n",
    "    print(cur_block_num, end='')\n",
    "    \n",
    "    '''\n",
    "        1. Split `X_train` into parts\n",
    "           Remember, that corresponding dates are stored in `dates_train` \n",
    "        2. Fit linear regression \n",
    "        3. Fit LightGBM and put predictions          \n",
    "        4. Store predictions from 2. and 3. in the right place of `X_train_level2`. \n",
    "           You can use `dates_train_level2` for it\n",
    "           Make sure the order of the meta-features is the same as in `X_test_level2`\n",
    "    '''      \n",
    "\n",
    "    X_block_train = X_train.loc[dates_train <  cur_block_num]\n",
    "    y_block_train = y_train[dates_train < cur_block_num]\n",
    "    X_block_val = X_train[dates_train == cur_block_num]\n",
    "    y_block_val = y_train[dates_train == cur_block_num]\n",
    "    \n",
    "    print(':  X_block_train.shape={}'.format(X_block_train.shape), end='')\n",
    "    print(',  X_block_val.shape={}'.format(X_block_val.shape), end='')\n",
    "    print(',   Total Size={}'.format(X_block_train.shape[0] + X_block_val.shape[0]), end='')\n",
    "    print()\n",
    "    \n",
    "    lr_model.fit(X_block_train, y_block_train)\n",
    "    X_train_level2[dates_train_level2 == cur_block_num, 0] = lr_model.predict(X_block_val.values).clip(*target_range)\n",
    "    \n",
    "    model = lgb.train(lgb_params, \n",
    "                  lgb.Dataset(X_block_train, label=y_block_train.clip(*target_range)), \n",
    "                  num_boost_round=lgb_iterations)\n",
    "    X_train_level2[dates_train_level2 == cur_block_num, 1] = model.predict(X_block_val).clip(*target_range)"
   ]
  },
  {
   "cell_type": "code",
   "execution_count": 65,
   "metadata": {},
   "outputs": [
    {
     "data": {
      "image/png": "[encoded data removed]",
      "text/plain": [
       "<Figure size 432x288 with 1 Axes>"
      ]
     },
     "metadata": {
      "needs_background": "light"
     },
     "output_type": "display_data"
    }
   ],
   "source": [
    "# Check if the 1st level models are uncorrelated enough\n",
    "plt.scatter(X_train_level2[:,0], X_train_level2[:,1],)\n",
    "plt.xlabel('Linear regression preds')\n",
    "plt.ylabel('LightGBM preds')\n",
    "plt.show()"
   ]
  },
  {
   "cell_type": "markdown",
   "metadata": {},
   "source": [
    "## Validation meta features"
   ]
  },
  {
   "cell_type": "code",
   "execution_count": 67,
   "metadata": {},
   "outputs": [
    {
     "name": "stdout",
     "output_type": "stream",
     "text": [
      "(238172, 2)\n",
      "[[0.08544651 0.06277323]\n",
      " [0.08717979 0.06277323]\n",
      " [0.49919918 0.21941799]]\n"
     ]
    }
   ],
   "source": [
    "# fit models and create the predictions\n",
    "lr_model.fit(X_train, y_train)\n",
    "pred_lr = lr_model.predict(X_val).clip(*target_range)\n",
    "\n",
    "lgb_model = lgb.train(lgb_params, \n",
    "                  lgb.Dataset(X_train, label=y_train.clip(*target_range)), \n",
    "                  num_boost_round=lgb_iterations)\n",
    "pred_lgb = lgb_model.predict(X_val).clip(*target_range)\n",
    "\n",
    "# concatenate predictions to get the meta features\n",
    "X_val_level2 = np.c_[pred_lr, pred_lgb] \n",
    "print(X_val_level2.shape)\n",
    "print(X_val_level2[:3])"
   ]
  },
  {
   "cell_type": "markdown",
   "metadata": {},
   "source": [
    "## Stack the models"
   ]
  },
  {
   "cell_type": "markdown",
   "metadata": {},
   "source": [
    "### Check linear convex mix"
   ]
  },
  {
   "cell_type": "markdown",
   "metadata": {},
   "source": [
    "Simple linear convex mix: mix=α⋅linreg_prediction+(1−α)⋅lgb_prediction"
   ]
  },
  {
   "cell_type": "code",
   "execution_count": 68,
   "metadata": {},
   "outputs": [
    {
     "name": "stdout",
     "output_type": "stream",
     "text": [
      "Best alpha: 0.461000; Corresponding r2 score on train: 0.078322\n"
     ]
    }
   ],
   "source": [
    "alphas_to_try = np.linspace(0, 1, 1001)\n",
    "\n",
    "def lcmix_predict(X, alpha):\n",
    "    return alpha*X[:,0] + (1-alpha)*X[:,1]\n",
    "\n",
    "best_alpha = -1\n",
    "r2_train_simple_mix = -1e10\n",
    "for alpha in alphas_to_try:\n",
    "    lcmix_preds = lcmix_predict(X_train_level2, alpha)\n",
    "    lcmix_preds = lcmix_preds.clip(*target_range)\n",
    "    r2 = r2_score(y_train_level2, lcmix_preds)\n",
    "    if r2 > r2_train_simple_mix:\n",
    "        best_alpha = alpha\n",
    "        r2_train_simple_mix = r2\n",
    "\n",
    "print('Best alpha: %f; Corresponding r2 score on train: %f' % (best_alpha, r2_train_simple_mix))"
   ]
  },
  {
   "cell_type": "code",
   "execution_count": 69,
   "metadata": {},
   "outputs": [
    {
     "name": "stdout",
     "output_type": "stream",
     "text": [
      "Dev R-squared for simple mix is 0.046555\n",
      "Dev RMSE for simple mix is 0.943529\n"
     ]
    }
   ],
   "source": [
    "lcmix_preds = lcmix_predict(X_val_level2, best_alpha)\n",
    "print('Dev R-squared for simple mix is %f' % r2_score(y_val, lcmix_preds))\n",
    "print('Dev RMSE for simple mix is %f' %  rmse_score(y_val.clip(*target_range), lcmix_preds))"
   ]
  },
  {
   "cell_type": "markdown",
   "metadata": {},
   "source": [
    "### Check linear regression"
   ]
  },
  {
   "cell_type": "code",
   "execution_count": 75,
   "metadata": {},
   "outputs": [
    {
     "data": {
      "text/plain": [
       "LinearRegression(copy_X=True, fit_intercept=True, n_jobs=1, normalize=False)"
      ]
     },
     "execution_count": 75,
     "metadata": {},
     "output_type": "execute_result"
    }
   ],
   "source": [
    "# Create model\n",
    "lr_model.fit(pd.DataFrame(X_train_level2), y_train_level2)"
   ]
  },
  {
   "cell_type": "code",
   "execution_count": 78,
   "metadata": {},
   "outputs": [
    {
     "name": "stdout",
     "output_type": "stream",
     "text": [
      "Train RMSE for linear regression as 2nd level model is 3.874031\n",
      "Validation RMSE for linear regression as 2nd level model is 1.109497\n"
     ]
    }
   ],
   "source": [
    "# Score\n",
    "pred_train_lr = lr_model.predict(pd.DataFrame(X_train_level2)).clip(*target_range)\n",
    "print('Train RMSE for linear regression as 2nd level model is %f' % rmse_score(y_train_level2, pred_train_lr))\n",
    "\n",
    "pred_val_lr = lr_model.predict(pd.DataFrame(X_val_level2)).clip(*target_range)\n",
    "print('Validation RMSE for linear regression as 2nd level model is %f' % rmse_score(y_val.clip(*target_range), pred_val_lr))"
   ]
  },
  {
   "cell_type": "markdown",
   "metadata": {},
   "source": [
    "# Predictions for submission"
   ]
  },
  {
   "cell_type": "code",
   "execution_count": 71,
   "metadata": {},
   "outputs": [
    {
     "name": "stdout",
     "output_type": "stream",
     "text": [
      "6425094 6425094 214200 \n",
      "\n",
      "214200 \n",
      "\n",
      "214200 \n",
      "\n",
      "(214200, 2)\n"
     ]
    }
   ],
   "source": [
    "# prepare all data\n",
    "\n",
    "X_all = X_train.append(X_val)\n",
    "y_all = np.concatenate([y_train, y_val])\n",
    "print(len(X_all),len(y_all),len(X_test),'\\n')\n",
    "\n",
    "# fit 1-st level models and create the predictions\n",
    "\n",
    "lr_model.fit(X_all, y_all)\n",
    "pred_lr = lr_model.predict(X_test).clip(*target_range)\n",
    "print(len(pred_lr),\"\\n\")\n",
    "\n",
    "lgb_model = lgb.train(lgb_params, \n",
    "                  lgb.Dataset(X_all, label=y_all.clip(*target_range)), \n",
    "                  num_boost_round=lgb_iterations)\n",
    "pred_lgb = lgb_model.predict(X_test).clip(*target_range)\n",
    "print(len(pred_lgb),\"\\n\")\n",
    "\n",
    "# concatenate predictions to get the meta features for stacking\n",
    "\n",
    "X_all_level2 = np.c_[pred_lr, pred_lgb] \n",
    "print(X_all_level2.shape)\n",
    "\n",
    "# and get the submission preds\n",
    "submission_preds = lcmix_predict(X_all_level2, best_alpha)"
   ]
  },
  {
   "cell_type": "code",
   "execution_count": 72,
   "metadata": {},
   "outputs": [],
   "source": [
    "#Load test data to merge ID for submission\n",
    "test = pd.read_csv(os.path.join(DATA_FOLDER, 'test.csv.gz'))"
   ]
  },
  {
   "cell_type": "code",
   "execution_count": 73,
   "metadata": {},
   "outputs": [
    {
     "name": "stdout",
     "output_type": "stream",
     "text": [
      "214200 214200 0.31411067 0.29688996779829546\n",
      "214200 214200 0.29688996779829546 0.29688996779829546\n"
     ]
    }
   ],
   "source": [
    "# Create submission dataframe\n",
    "# Append to shop_id, item_id of test data segment\n",
    "test_month = max(all_data['date_block_num']) \n",
    "\n",
    "assert test_month == 34\n",
    "\n",
    "test_data = all_data[all_data['date_block_num'] == test_month][future_index_cols]\n",
    "test_data['item_cnt_month'] = submission_preds\n",
    "\n",
    "print(len(test_data), len(submission_preds), np.mean(all_data['target']), np.mean(submission_preds))\n",
    "\n",
    "#Use test data to merge ID for submission\n",
    "submission = test[['ID']+future_index_cols].merge(test_data, on=future_index_cols, how='left').fillna(0)\n",
    "\n",
    "print(len(test_data), len(submission), np.mean(test_data['item_cnt_month']), np.mean(submission['item_cnt_month']))"
   ]
  },
  {
   "cell_type": "code",
   "execution_count": 74,
   "metadata": {},
   "outputs": [],
   "source": [
    "# Dump to file\n",
    "submission_columns = ['ID','item_cnt_month']\n",
    "submission_filename = './submissions/submission_stacking_lgb_and_lr_with_lcmix.csv'\n",
    "submission[submission_columns].to_csv(submission_filename,header=True,index=False)"
   ]
  },
  {
   "cell_type": "markdown",
   "metadata": {},
   "source": [
    "I get a fine grade 8/10. My public and private LB scores are: 0.979675 and 0.981642."
   ]
  },
  {
   "cell_type": "markdown",
   "metadata": {},
   "source": [
    "# Stacking EN and LGBM"
   ]
  },
  {
   "cell_type": "code",
   "execution_count": 82,
   "metadata": {},
   "outputs": [
    {
     "name": "stdout",
     "output_type": "stream",
     "text": [
      "27:  X_block_train.shape=(4810730, 14),  X_block_val.shape=(257372, 14),   Total Size=5068102\n",
      "28:  X_block_train.shape=(5068102, 14),  X_block_val.shape=(232452, 14),   Total Size=5300554\n",
      "29:  X_block_train.shape=(5300554, 14),  X_block_val.shape=(224288, 14),   Total Size=5524842\n",
      "30:  X_block_train.shape=(5524842, 14),  X_block_val.shape=(228889, 14),   Total Size=5753731\n",
      "31:  X_block_train.shape=(5753731, 14),  X_block_val.shape=(214536, 14),   Total Size=5968267\n",
      "32:  X_block_train.shape=(5968267, 14),  X_block_val.shape=(218655, 14),   Total Size=6186922\n"
     ]
    }
   ],
   "source": [
    "# Train meta features\n",
    "\n",
    "# That is how we get target for the 2nd level dataset\n",
    "y_train_level2 = y_train[dates_train.isin(last_blocks)]\n",
    "\n",
    "# And here we create 2nd level feeature matrix, init it with zeros first\n",
    "X_train_level2 = np.zeros([y_train_level2.shape[0], 2])\n",
    "\n",
    "# Now fill `X_train_level2` with metafeatures\n",
    "for cur_block_num in last_blocks:\n",
    "    \n",
    "    print(cur_block_num, end='')\n",
    "    \n",
    "    '''\n",
    "        1. Split `X_train` into parts\n",
    "           Remember, that corresponding dates are stored in `dates_train` \n",
    "        2. Fit linear regression \n",
    "        3. Fit LightGBM and put predictions          \n",
    "        4. Store predictions from 2. and 3. in the right place of `X_train_level2`. \n",
    "           You can use `dates_train_level2` for it\n",
    "           Make sure the order of the meta-features is the same as in `X_test_level2`\n",
    "    '''      \n",
    "\n",
    "    X_block_train = X_train.loc[dates_train <  cur_block_num]\n",
    "    y_block_train = y_train[dates_train < cur_block_num]\n",
    "    X_block_val = X_train[dates_train == cur_block_num]\n",
    "    y_block_val = y_train[dates_train == cur_block_num]\n",
    "    \n",
    "    print(':  X_block_train.shape={}'.format(X_block_train.shape), end='')\n",
    "    print(',  X_block_val.shape={}'.format(X_block_val.shape), end='')\n",
    "    print(',   Total Size={}'.format(X_block_train.shape[0] + X_block_val.shape[0]), end='')\n",
    "    print()\n",
    "    \n",
    "    en_model.fit(X_block_train, y_block_train)\n",
    "    X_train_level2[dates_train_level2 == cur_block_num, 0] = en_model.predict(X_block_val.values).clip(*target_range)\n",
    "    \n",
    "    model = lgb.train(lgb_params, \n",
    "                  lgb.Dataset(X_block_train, label=y_block_train.clip(*target_range)), \n",
    "                  num_boost_round=lgb_iterations)\n",
    "    X_train_level2[dates_train_level2 == cur_block_num, 1] = model.predict(X_block_val).clip(*target_range)"
   ]
  },
  {
   "cell_type": "code",
   "execution_count": 84,
   "metadata": {},
   "outputs": [
    {
     "data": {
      "image/png": "[encoded data removed]",
      "text/plain": [
       "<Figure size 432x288 with 1 Axes>"
      ]
     },
     "metadata": {
      "needs_background": "light"
     },
     "output_type": "display_data"
    }
   ],
   "source": [
    "# Check if the 1st level models are uncorrelated enough\n",
    "plt.scatter(X_train_level2[:,0], X_train_level2[:,1],)\n",
    "plt.xlabel('ElasticNet preds preds')\n",
    "plt.ylabel('LightGBM preds')\n",
    "plt.show()"
   ]
  },
  {
   "cell_type": "code",
   "execution_count": 85,
   "metadata": {},
   "outputs": [
    {
     "name": "stdout",
     "output_type": "stream",
     "text": [
      "(238172, 2)\n",
      "[[0.09639225 0.06277323]\n",
      " [0.09639225 0.06277323]\n",
      " [0.44375501 0.21941799]]\n"
     ]
    }
   ],
   "source": [
    "# Validation meta features\n",
    "\n",
    "# fit models and create the predictions\n",
    "en_model.fit(X_train, y_train)\n",
    "pred_en = en_model.predict(X_val).clip(*target_range)\n",
    "\n",
    "lgb_model = lgb.train(lgb_params, \n",
    "                  lgb.Dataset(X_train, label=y_train.clip(*target_range)), \n",
    "                  num_boost_round=lgb_iterations)\n",
    "pred_lgb = lgb_model.predict(X_val).clip(*target_range)\n",
    "\n",
    "# concatenate predictions to get the meta features\n",
    "X_val_level2 = np.c_[pred_en, pred_lgb] \n",
    "print(X_val_level2.shape)\n",
    "print(X_val_level2[:3])"
   ]
  },
  {
   "cell_type": "code",
   "execution_count": 86,
   "metadata": {},
   "outputs": [
    {
     "name": "stdout",
     "output_type": "stream",
     "text": [
      "Best alpha: 0.510000; Corresponding r2 score on train: 0.078342\n"
     ]
    }
   ],
   "source": [
    "# Stack the models\n",
    "\n",
    "# Check linear convex mix\n",
    "\n",
    "alphas_to_try = np.linspace(0, 1, 1001)\n",
    "\n",
    "def lcmix_predict(X, alpha):\n",
    "    return alpha*X[:,0] + (1-alpha)*X[:,1]\n",
    "\n",
    "best_alpha = -1\n",
    "r2_train_simple_mix = -1e10\n",
    "for alpha in alphas_to_try:\n",
    "    lcmix_preds = lcmix_predict(X_train_level2, alpha)\n",
    "    lcmix_preds = lcmix_preds.clip(*target_range)\n",
    "    r2 = r2_score(y_train_level2, lcmix_preds)\n",
    "    if r2 > r2_train_simple_mix:\n",
    "        best_alpha = alpha\n",
    "        r2_train_simple_mix = r2\n",
    "\n",
    "print('Best alpha: %f; Corresponding r2 score on train: %f' % (best_alpha, r2_train_simple_mix))"
   ]
  },
  {
   "cell_type": "code",
   "execution_count": 87,
   "metadata": {},
   "outputs": [
    {
     "name": "stdout",
     "output_type": "stream",
     "text": [
      "Dev R-squared for simple mix is 0.046606\n",
      "Dev RMSE for simple mix is 0.943675\n"
     ]
    }
   ],
   "source": [
    "lcmix_preds = lcmix_predict(X_val_level2, best_alpha)\n",
    "print('Dev R-squared for simple mix is %f' % r2_score(y_val, lcmix_preds))\n",
    "print('Dev RMSE for simple mix is %f' %  rmse_score(y_val.clip(*target_range), lcmix_preds))"
   ]
  },
  {
   "cell_type": "code",
   "execution_count": 88,
   "metadata": {},
   "outputs": [
    {
     "data": {
      "text/plain": [
       "LinearRegression(copy_X=True, fit_intercept=True, n_jobs=1, normalize=False)"
      ]
     },
     "execution_count": 88,
     "metadata": {},
     "output_type": "execute_result"
    }
   ],
   "source": [
    "# Check linear regression\n",
    "\n",
    "# Create model\n",
    "lr_model.fit(pd.DataFrame(X_train_level2), y_train_level2)"
   ]
  },
  {
   "cell_type": "code",
   "execution_count": 89,
   "metadata": {},
   "outputs": [
    {
     "name": "stdout",
     "output_type": "stream",
     "text": [
      "Train RMSE for linear regression as 2nd level model is 3.874187\n",
      "Validation RMSE for linear regression as 2nd level model is 1.094778\n"
     ]
    }
   ],
   "source": [
    "# Score\n",
    "pred_train_lr = lr_model.predict(pd.DataFrame(X_train_level2)).clip(*target_range)\n",
    "print('Train RMSE for linear regression as 2nd level model is %f' % rmse_score(y_train_level2, pred_train_lr))\n",
    "\n",
    "pred_val_lr = lr_model.predict(pd.DataFrame(X_val_level2)).clip(*target_range)\n",
    "print('Validation RMSE for linear regression as 2nd level model is %f' % rmse_score(y_val.clip(*target_range), pred_val_lr))"
   ]
  },
  {
   "cell_type": "code",
   "execution_count": 90,
   "metadata": {},
   "outputs": [
    {
     "name": "stdout",
     "output_type": "stream",
     "text": [
      "6425094 6425094 214200 \n",
      "\n",
      "214200 \n",
      "\n",
      "214200 \n",
      "\n",
      "(214200, 2)\n"
     ]
    }
   ],
   "source": [
    "# Predictions for submission\n",
    "\n",
    "# prepare all data\n",
    "\n",
    "X_all = X_train.append(X_val)\n",
    "y_all = np.concatenate([y_train, y_val])\n",
    "print(len(X_all),len(y_all),len(X_test),'\\n')\n",
    "\n",
    "# fit 1-st level models and create the predictions\n",
    "\n",
    "en_model.fit(X_all, y_all)\n",
    "pred_en = en_model.predict(X_test).clip(*target_range)\n",
    "print(len(pred_en),\"\\n\")\n",
    "\n",
    "lgb_model = lgb.train(lgb_params, \n",
    "                  lgb.Dataset(X_all, label=y_all.clip(*target_range)), \n",
    "                  num_boost_round=lgb_iterations)\n",
    "pred_lgb = lgb_model.predict(X_test).clip(*target_range)\n",
    "print(len(pred_lgb),\"\\n\")\n",
    "\n",
    "# concatenate predictions to get the meta features for stacking\n",
    "\n",
    "X_all_level2 = np.c_[pred_en, pred_lgb] \n",
    "print(X_all_level2.shape)\n",
    "\n",
    "# and get the submission preds\n",
    "submission_preds = lcmix_predict(X_all_level2, best_alpha)"
   ]
  },
  {
   "cell_type": "code",
   "execution_count": 91,
   "metadata": {},
   "outputs": [],
   "source": [
    "#Load test data to merge ID for submission\n",
    "test = pd.read_csv(os.path.join(DATA_FOLDER, 'test.csv.gz'))"
   ]
  },
  {
   "cell_type": "code",
   "execution_count": 92,
   "metadata": {},
   "outputs": [
    {
     "name": "stdout",
     "output_type": "stream",
     "text": [
      "214200 214200 0.31411067 0.29622669626021964\n",
      "214200 214200 0.29622669626021964 0.29622669626021964\n"
     ]
    }
   ],
   "source": [
    "# Create submission dataframe\n",
    "# Append to shop_id, item_id of test data segment\n",
    "test_month = max(all_data['date_block_num']) \n",
    "\n",
    "assert test_month == 34\n",
    "\n",
    "test_data = all_data[all_data['date_block_num'] == test_month][future_index_cols]\n",
    "test_data['item_cnt_month'] = submission_preds\n",
    "\n",
    "print(len(test_data), len(submission_preds), np.mean(all_data['target']), np.mean(submission_preds))\n",
    "\n",
    "#Use test data to merge ID for submission\n",
    "submission = test[['ID']+future_index_cols].merge(test_data, on=future_index_cols, how='left').fillna(0)\n",
    "\n",
    "print(len(test_data), len(submission), np.mean(test_data['item_cnt_month']), np.mean(submission['item_cnt_month']))"
   ]
  },
  {
   "cell_type": "code",
   "execution_count": 93,
   "metadata": {},
   "outputs": [],
   "source": [
    "# Dump to file\n",
    "submission_columns = ['ID','item_cnt_month']\n",
    "submission_filename = './submissions/submission_stacking_lgb_and_en_with_lcmix.csv'\n",
    "submission[submission_columns].to_csv(submission_filename,header=True,index=False)"
   ]
  },
  {
   "cell_type": "markdown",
   "metadata": {},
   "source": [
    "I get a fine grade 8/10. My public and private LB scores are: 0.980987 and 0.983114."
   ]
  }
 ],
 "metadata": {
  "kernelspec": {
   "display_name": "Python 3",
   "language": "python",
   "name": "python3"
  },
  "language_info": {
   "codemirror_mode": {
    "name": "ipython",
    "version": 3
   },
   "file_extension": ".py",
   "mimetype": "text/x-python",
   "name": "python",
   "nbconvert_exporter": "python",
   "pygments_lexer": "ipython3",
   "version": "3.7.1"
  }
 },
 "nbformat": 4,
 "nbformat_minor": 4
}
